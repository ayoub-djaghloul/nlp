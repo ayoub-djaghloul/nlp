{
 "cells": [
  {
   "cell_type": "code",
   "execution_count": 1,
   "metadata": {},
   "outputs": [
    {
     "name": "stdout",
     "output_type": "stream",
     "text": [
      "Classification Report for Development Set:\n",
      "              precision    recall  f1-score   support\n",
      "\n",
      "          -1       0.58      0.41      0.48       340\n",
      "           0       0.64      0.69      0.67       739\n",
      "           1       0.62      0.66      0.64       575\n",
      "\n",
      "    accuracy                           0.62      1654\n",
      "   macro avg       0.61      0.59      0.59      1654\n",
      "weighted avg       0.62      0.62      0.62      1654\n",
      "\n",
      "Classification Report for Test Set:\n",
      "              precision    recall  f1-score   support\n",
      "\n",
      "          -1       0.57      0.37      0.45       559\n",
      "           0       0.61      0.76      0.68      1513\n",
      "           1       0.70      0.62      0.66      1475\n",
      "\n",
      "    accuracy                           0.64      3547\n",
      "   macro avg       0.63      0.58      0.60      3547\n",
      "weighted avg       0.64      0.64      0.64      3547\n",
      "\n"
     ]
    }
   ],
   "source": [
    "import pandas as pd\n",
    "from collections import Counter\n",
    "from sklearn import svm\n",
    "import re\n",
    "from sklearn.svm import LinearSVC\n",
    "from sklearn.metrics import classification_report\n",
    "\n",
    "\n",
    "\n",
    "def charge_donnees():\n",
    "    global train_data,dev_data,test_data\n",
    "    # Chemin vers les fichiers de données\n",
    "    train_file = 'twitter-2013train-A.txt'\n",
    "    dev_file = 'twitter-2013dev-A.txt'\n",
    "    test_file = 'twitter-2013test-A.txt'\n",
    "    # Charger les fichiers de données dans des DataFrames : étape 1\n",
    "    train_data = pd.read_csv(train_file, sep='\\t', names=['tweet_id', 'sentiment', 'text'])\n",
    "    dev_data = pd.read_csv(dev_file, sep='\\t', names=['tweet_id', 'sentiment', 'text'])\n",
    "    test_data = pd.read_csv(test_file, sep='\\t', names=['tweet_id', 'sentiment', 'text'])\n",
    "# Preprocessing function\n",
    "def preprocess_text(text):\n",
    "    text = text.lower()  # Lowercase\n",
    "    text = re.sub(r'\\W', ' ', text)  # Remove all non-word characters\n",
    "    text = re.sub(r'\\s+', ' ', text)  # Replace multiple spaces with a single space\n",
    "    return text\n",
    "\n",
    "def etape23():\n",
    "    global train_data\n",
    "    lexique = set()\n",
    "    for text in train_data['text']:\n",
    "        processed_text = preprocess_text(text)\n",
    "        words = processed_text.split()\n",
    "        lexique.update(words)\n",
    "        # Étape 3 :Return Attribuer un numéro unique à chaque mot du lexique, en commençant à 1\n",
    "    return {word: idx + 1 for idx, word in enumerate(lexique)}\n",
    "\n",
    "# Count word occurrences\n",
    "def etape4(train_data,word_to_index):\n",
    "    word_counts_per_message = []\n",
    "    for message in train_data['text']:\n",
    "        processed_text = preprocess_text(message)\n",
    "        words = processed_text.split()\n",
    "        word_counts_per_message.append(Counter([word_to_index[message] for message in words if message in word_to_index]))\n",
    "    return word_counts_per_message\n",
    "\n",
    "\n",
    "\n",
    "charge_donnees()\n",
    "word_to_index = etape23()\n",
    "word_counts_per_message = etape4(train_data,word_to_index)\n",
    "\n",
    "def convert_to_svm_format(data, word_counts):\n",
    "    label_mapping = {'positive': 1, 'negative': -1, 'neutral': 0}\n",
    "    svm_data = []\n",
    "    for i, row in enumerate(data.itertuples()):\n",
    "        label = label_mapping[row.sentiment]\n",
    "        features = word_counts[i]\n",
    "        # Ensure the features are sorted by index\n",
    "        sorted_features = sorted(features.items())\n",
    "        feature_str = ' '.join([f\"{index}:{count}\" for index, count in sorted_features])\n",
    "        svm_data.append(f\"{label} {feature_str}\")\n",
    "    return svm_data\n",
    "\n",
    "\n",
    "\n",
    "# Convert to SVM format\n",
    "svm_train_data = convert_to_svm_format(train_data, word_counts_per_message)\n",
    "#print(svm_train_data)\n",
    "\n",
    "# Training the SVM\n",
    "clf = LinearSVC(dual=False)\n",
    "label_mapping = {'positive': 1, 'negative': -1, 'neutral': 0}\n",
    "X_train = [[0] * len(word_to_index) for _ in range(len(train_data))]\n",
    "for i, sample in enumerate(word_counts_per_message):\n",
    "    for index, count in sample.items():\n",
    "        X_train[i][index-1] = count  # Adjust index by -1\n",
    "y_train = [label_mapping[row.sentiment] for row in train_data.itertuples()]\n",
    "clf.fit(X_train, y_train)\n",
    "\n",
    "# Evaluate the model on development data\n",
    "word_counts_dev = etape4(dev_data, word_to_index)\n",
    "svm_dev_data = convert_to_svm_format(dev_data, word_counts_dev)\n",
    "\n",
    "X_dev = [[0] * len(word_to_index) for _ in range(len(dev_data))]\n",
    "y_dev = [label_mapping[row.sentiment] for row in dev_data.itertuples()]\n",
    "\n",
    "for i, sample in enumerate(word_counts_dev):\n",
    "    for index, count in sample.items():\n",
    "        X_dev[i][index-1] = count  # Adjust index by -1\n",
    "\n",
    "y_pred_dev = clf.predict(X_dev)\n",
    "print(\"Classification Report for Development Set:\")\n",
    "print(classification_report(y_dev, y_pred_dev))\n",
    "\n",
    "# Evaluate the model on test data\n",
    "word_counts_test = etape4(test_data, word_to_index)\n",
    "svm_test_data = convert_to_svm_format(test_data, word_counts_test)\n",
    "\n",
    "X_test = [[0] * len(word_to_index) for _ in range(len(test_data))]\n",
    "y_test = [label_mapping[row.sentiment] for row in test_data.itertuples()]\n",
    "\n",
    "for i, sample in enumerate(word_counts_test):\n",
    "    for index, count in sample.items():\n",
    "        X_test[i][index-1] = count  # Adjust index by -1\n",
    "\n",
    "y_pred_test = clf.predict(X_test)\n",
    "print(\"Classification Report for Test Set:\")\n",
    "print(classification_report(y_test, y_pred_test))\n",
    "\n",
    "# RESULTS\n",
    "\n",
    "# Classification Report for Development Set:\n",
    "#               precision    recall  f1-score   support\n",
    "#\n",
    "#           -1       0.58      0.41      0.48       340\n",
    "#            0       0.64      0.69      0.67       739\n",
    "#            1       0.62      0.66      0.64       575\n",
    "#\n",
    "#     accuracy                           0.62      1654\n",
    "#    macro avg       0.61      0.59      0.59      1654\n",
    "# weighted avg       0.62      0.62      0.62      1654\n",
    "#\n",
    "# Classification Report for Test Set:\n",
    "#               precision    recall  f1-score   support\n",
    "#\n",
    "#           -1       0.57      0.37      0.45       559\n",
    "#            0       0.61      0.76      0.68      1513\n",
    "#            1       0.70      0.62      0.66      1475\n",
    "#\n",
    "#     accuracy                           0.64      3547\n",
    "#    macro avg       0.63      0.58      0.60      3547\n",
    "# weighted avg       0.64      0.64      0.64      3547\n"
   ]
  },
  {
   "cell_type": "code",
   "execution_count": 1,
   "metadata": {},
   "outputs": [],
   "source": [
    "import pandas as pd\n",
    "from collections import Counter\n",
    "from sklearn import svm\n",
    "import re\n",
    "from sklearn.svm import LinearSVC\n",
    "from sklearn.metrics import classification_report"
   ]
  },
  {
   "attachments": {},
   "cell_type": "markdown",
   "metadata": {},
   "source": [
    "# Cellule 1 : Chargement des données\n"
   ]
  },
  {
   "cell_type": "code",
   "execution_count": 2,
   "metadata": {},
   "outputs": [],
   "source": [
    "def charge_donnees():\n",
    "    global train_data, dev_data, test_data\n",
    "    # Chemin vers les fichiers de données\n",
    "    train_file = 'twitter-2013train-A.txt'\n",
    "    dev_file = 'twitter-2013dev-A.txt'\n",
    "    test_file = 'twitter-2013test-A.txt'\n",
    "    # Charger les fichiers de données dans des DataFrames : étape 1\n",
    "    train_data = pd.read_csv(train_file, sep='\\t', names=['tweet_id', 'sentiment', 'text'])\n",
    "    dev_data = pd.read_csv(dev_file, sep='\\t', names=['tweet_id', 'sentiment', 'text'])\n",
    "    test_data = pd.read_csv(test_file, sep='\\t', names=['tweet_id', 'sentiment', 'text'])\n"
   ]
  },
  {
   "attachments": {},
   "cell_type": "markdown",
   "metadata": {},
   "source": [
    "# Cellule 2 : Fonction de prétraitement du texte\n"
   ]
  },
  {
   "cell_type": "code",
   "execution_count": 3,
   "metadata": {},
   "outputs": [],
   "source": [
    "def preprocess_text(text):\n",
    "    text = text.lower()  # Minuscules\n",
    "    text = re.sub(r'\\W', ' ', text)  # Suppression des caractères non alphabétiques\n",
    "    text = re.sub(r'\\s+', ' ', text)  # Remplacement des espaces multiples par un espace unique\n",
    "    return text\n"
   ]
  },
  {
   "attachments": {},
   "cell_type": "markdown",
   "metadata": {},
   "source": [
    "# Cellule 3 : Extraction du lexique\n"
   ]
  },
  {
   "cell_type": "code",
   "execution_count": 4,
   "metadata": {},
   "outputs": [],
   "source": [
    "def etape23():\n",
    "    global train_data\n",
    "    lexique = set()\n",
    "    for text in train_data['text']:\n",
    "        processed_text = preprocess_text(text)\n",
    "        words = processed_text.split()\n",
    "        lexique.update(words)\n",
    "        # Étape 3 : Attribuer un numéro unique à chaque mot du lexique, en commençant à 1\n",
    "    return {word: idx + 1 for idx, word in enumerate(lexique)}\n"
   ]
  },
  {
   "attachments": {},
   "cell_type": "markdown",
   "metadata": {},
   "source": [
    "# Cellule 4 : Comptage des occurrences des mots\n"
   ]
  },
  {
   "cell_type": "code",
   "execution_count": 5,
   "metadata": {},
   "outputs": [],
   "source": [
    "def etape4(train_data, word_to_index):\n",
    "    word_counts_per_message = []\n",
    "    for message in train_data['text']:\n",
    "        processed_text = preprocess_text(message)\n",
    "        words = processed_text.split()\n",
    "        word_counts_per_message.append(Counter([word_to_index[message] for message in words if message in word_to_index]))\n",
    "    return word_counts_per_message\n"
   ]
  },
  {
   "attachments": {},
   "cell_type": "markdown",
   "metadata": {},
   "source": [
    "# Cellule 5 : Conversion au format SVM\n"
   ]
  },
  {
   "cell_type": "code",
   "execution_count": 6,
   "metadata": {},
   "outputs": [],
   "source": [
    "def convert_to_svm_format(data, word_counts):\n",
    "    label_mapping = {'positive': 1, 'negative': -1, 'neutral': 0}\n",
    "    svm_data = []\n",
    "    for i, row in enumerate(data.itertuples()):\n",
    "        label = label_mapping[row.sentiment]\n",
    "        features = word_counts[i]\n",
    "        # Assurer que les fonctionnalités sont triées par index\n",
    "        sorted_features = sorted(features.items())\n",
    "        feature_str = ' '.join([f\"{index}:{count}\" for index, count in sorted_features])\n",
    "        svm_data.append(f\"{label} {feature_str}\")\n",
    "    return svm_data\n"
   ]
  },
  {
   "attachments": {},
   "cell_type": "markdown",
   "metadata": {},
   "source": [
    "# Cellule 6 : Conversion des données d'apprentissage au format SVM\n"
   ]
  },
  {
   "cell_type": "code",
   "execution_count": 7,
   "metadata": {},
   "outputs": [],
   "source": [
    "charge_donnees()\n",
    "word_to_index = etape23()\n",
    "word_counts_per_message = etape4(train_data, word_to_index)\n",
    "svm_train_data = convert_to_svm_format(train_data, word_counts_per_message)\n"
   ]
  },
  {
   "attachments": {},
   "cell_type": "markdown",
   "metadata": {},
   "source": [
    "# Cellule 7 : Entraînement du SVM\n"
   ]
  },
  {
   "cell_type": "code",
   "execution_count": 8,
   "metadata": {},
   "outputs": [
    {
     "data": {
      "text/html": [
       "<style>#sk-container-id-1 {color: black;}#sk-container-id-1 pre{padding: 0;}#sk-container-id-1 div.sk-toggleable {background-color: white;}#sk-container-id-1 label.sk-toggleable__label {cursor: pointer;display: block;width: 100%;margin-bottom: 0;padding: 0.3em;box-sizing: border-box;text-align: center;}#sk-container-id-1 label.sk-toggleable__label-arrow:before {content: \"▸\";float: left;margin-right: 0.25em;color: #696969;}#sk-container-id-1 label.sk-toggleable__label-arrow:hover:before {color: black;}#sk-container-id-1 div.sk-estimator:hover label.sk-toggleable__label-arrow:before {color: black;}#sk-container-id-1 div.sk-toggleable__content {max-height: 0;max-width: 0;overflow: hidden;text-align: left;background-color: #f0f8ff;}#sk-container-id-1 div.sk-toggleable__content pre {margin: 0.2em;color: black;border-radius: 0.25em;background-color: #f0f8ff;}#sk-container-id-1 input.sk-toggleable__control:checked~div.sk-toggleable__content {max-height: 200px;max-width: 100%;overflow: auto;}#sk-container-id-1 input.sk-toggleable__control:checked~label.sk-toggleable__label-arrow:before {content: \"▾\";}#sk-container-id-1 div.sk-estimator input.sk-toggleable__control:checked~label.sk-toggleable__label {background-color: #d4ebff;}#sk-container-id-1 div.sk-label input.sk-toggleable__control:checked~label.sk-toggleable__label {background-color: #d4ebff;}#sk-container-id-1 input.sk-hidden--visually {border: 0;clip: rect(1px 1px 1px 1px);clip: rect(1px, 1px, 1px, 1px);height: 1px;margin: -1px;overflow: hidden;padding: 0;position: absolute;width: 1px;}#sk-container-id-1 div.sk-estimator {font-family: monospace;background-color: #f0f8ff;border: 1px dotted black;border-radius: 0.25em;box-sizing: border-box;margin-bottom: 0.5em;}#sk-container-id-1 div.sk-estimator:hover {background-color: #d4ebff;}#sk-container-id-1 div.sk-parallel-item::after {content: \"\";width: 100%;border-bottom: 1px solid gray;flex-grow: 1;}#sk-container-id-1 div.sk-label:hover label.sk-toggleable__label {background-color: #d4ebff;}#sk-container-id-1 div.sk-serial::before {content: \"\";position: absolute;border-left: 1px solid gray;box-sizing: border-box;top: 0;bottom: 0;left: 50%;z-index: 0;}#sk-container-id-1 div.sk-serial {display: flex;flex-direction: column;align-items: center;background-color: white;padding-right: 0.2em;padding-left: 0.2em;position: relative;}#sk-container-id-1 div.sk-item {position: relative;z-index: 1;}#sk-container-id-1 div.sk-parallel {display: flex;align-items: stretch;justify-content: center;background-color: white;position: relative;}#sk-container-id-1 div.sk-item::before, #sk-container-id-1 div.sk-parallel-item::before {content: \"\";position: absolute;border-left: 1px solid gray;box-sizing: border-box;top: 0;bottom: 0;left: 50%;z-index: -1;}#sk-container-id-1 div.sk-parallel-item {display: flex;flex-direction: column;z-index: 1;position: relative;background-color: white;}#sk-container-id-1 div.sk-parallel-item:first-child::after {align-self: flex-end;width: 50%;}#sk-container-id-1 div.sk-parallel-item:last-child::after {align-self: flex-start;width: 50%;}#sk-container-id-1 div.sk-parallel-item:only-child::after {width: 0;}#sk-container-id-1 div.sk-dashed-wrapped {border: 1px dashed gray;margin: 0 0.4em 0.5em 0.4em;box-sizing: border-box;padding-bottom: 0.4em;background-color: white;}#sk-container-id-1 div.sk-label label {font-family: monospace;font-weight: bold;display: inline-block;line-height: 1.2em;}#sk-container-id-1 div.sk-label-container {text-align: center;}#sk-container-id-1 div.sk-container {/* jupyter's `normalize.less` sets `[hidden] { display: none; }` but bootstrap.min.css set `[hidden] { display: none !important; }` so we also need the `!important` here to be able to override the default hidden behavior on the sphinx rendered scikit-learn.org. See: https://github.com/scikit-learn/scikit-learn/issues/21755 */display: inline-block !important;position: relative;}#sk-container-id-1 div.sk-text-repr-fallback {display: none;}</style><div id=\"sk-container-id-1\" class=\"sk-top-container\"><div class=\"sk-text-repr-fallback\"><pre>LinearSVC(dual=False)</pre><b>In a Jupyter environment, please rerun this cell to show the HTML representation or trust the notebook. <br />On GitHub, the HTML representation is unable to render, please try loading this page with nbviewer.org.</b></div><div class=\"sk-container\" hidden><div class=\"sk-item\"><div class=\"sk-estimator sk-toggleable\"><input class=\"sk-toggleable__control sk-hidden--visually\" id=\"sk-estimator-id-1\" type=\"checkbox\" checked><label for=\"sk-estimator-id-1\" class=\"sk-toggleable__label sk-toggleable__label-arrow\">LinearSVC</label><div class=\"sk-toggleable__content\"><pre>LinearSVC(dual=False)</pre></div></div></div></div></div>"
      ],
      "text/plain": [
       "LinearSVC(dual=False)"
      ]
     },
     "execution_count": 8,
     "metadata": {},
     "output_type": "execute_result"
    }
   ],
   "source": [
    "clf = LinearSVC(dual=False)\n",
    "label_mapping = {'positive': 1, 'negative': -1, 'neutral': 0}\n",
    "X_train = [[0] * len(word_to_index) for _ in range(len(train_data))]\n",
    "for i, sample in enumerate(word_counts_per_message):\n",
    "    for index, count in sample.items():\n",
    "        X_train[i][index-1] = count  # Ajustement de l'index par -1\n",
    "y_train = [label_mapping[row.sentiment] for row in train_data.itertuples()]\n",
    "clf.fit(X_train, y_train)\n"
   ]
  },
  {
   "attachments": {},
   "cell_type": "markdown",
   "metadata": {},
   "source": [
    "# Cellule 8 : Évaluation sur l'ensemble de développement\n"
   ]
  },
  {
   "cell_type": "code",
   "execution_count": 9,
   "metadata": {},
   "outputs": [
    {
     "name": "stdout",
     "output_type": "stream",
     "text": [
      "Rapport de classification pour l'ensemble de développement:\n",
      "              precision    recall  f1-score   support\n",
      "\n",
      "          -1       0.58      0.41      0.48       340\n",
      "           0       0.64      0.69      0.67       739\n",
      "           1       0.62      0.66      0.64       575\n",
      "\n",
      "    accuracy                           0.62      1654\n",
      "   macro avg       0.61      0.59      0.59      1654\n",
      "weighted avg       0.62      0.62      0.62      1654\n",
      "\n"
     ]
    }
   ],
   "source": [
    "word_counts_dev = etape4(dev_data, word_to_index)\n",
    "svm_dev_data = convert_to_svm_format(dev_data, word_counts_dev)\n",
    "\n",
    "X_dev = [[0] * len(word_to_index) for _ in range(len(dev_data))]\n",
    "y_dev = [label_mapping[row.sentiment] for row in dev_data.itertuples()]\n",
    "\n",
    "for i, sample in enumerate(word_counts_dev):\n",
    "    for index, count in sample.items():\n",
    "        X_dev[i][index-1] = count  # Ajustement de l'index par -1\n",
    "\n",
    "y_pred_dev = clf.predict(X_dev)\n",
    "print(\"Rapport de classification pour l'ensemble de développement:\")\n",
    "print(classification_report(y_dev, y_pred_dev))\n"
   ]
  },
  {
   "attachments": {},
   "cell_type": "markdown",
   "metadata": {},
   "source": [
    "# Cellule 9 : Évaluation sur l'ensemble de test\n"
   ]
  },
  {
   "cell_type": "code",
   "execution_count": 10,
   "metadata": {},
   "outputs": [
    {
     "name": "stdout",
     "output_type": "stream",
     "text": [
      "Rapport de classification pour l'ensemble de test:\n",
      "              precision    recall  f1-score   support\n",
      "\n",
      "          -1       0.57      0.37      0.45       559\n",
      "           0       0.61      0.76      0.68      1513\n",
      "           1       0.70      0.62      0.66      1475\n",
      "\n",
      "    accuracy                           0.64      3547\n",
      "   macro avg       0.63      0.58      0.60      3547\n",
      "weighted avg       0.64      0.64      0.64      3547\n",
      "\n"
     ]
    }
   ],
   "source": [
    "word_counts_test = etape4(test_data, word_to_index)\n",
    "svm_test_data = convert_to_svm_format(test_data, word_counts_test)\n",
    "\n",
    "X_test = [[0] * len(word_to_index) for _ in range(len(test_data))]\n",
    "y_test = [label_mapping[row.sentiment] for row in test_data.itertuples()]\n",
    "\n",
    "for i, sample in enumerate(word_counts_test):\n",
    "    for index, count in sample.items():\n",
    "        X_test[i][index-1] = count  # Ajustement de l'index par -1\n",
    "\n",
    "y_pred_test = clf.predict(X_test)\n",
    "print(\"Rapport de classification pour l'ensemble de test:\")\n",
    "print(classification_report(y_test, y_pred_test))\n"
   ]
  }
 ],
 "metadata": {
  "kernelspec": {
   "display_name": "Python 3",
   "language": "python",
   "name": "python3"
  },
  "language_info": {
   "codemirror_mode": {
    "name": "ipython",
    "version": 3
   },
   "file_extension": ".py",
   "mimetype": "text/x-python",
   "name": "python",
   "nbconvert_exporter": "python",
   "pygments_lexer": "ipython3",
   "version": "3.9.13"
  },
  "orig_nbformat": 4
 },
 "nbformat": 4,
 "nbformat_minor": 2
}
